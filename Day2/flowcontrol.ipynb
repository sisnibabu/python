{
 "cells": [
  {
   "cell_type": "code",
   "execution_count": 1,
   "metadata": {},
   "outputs": [
    {
     "name": "stdout",
     "output_type": "stream",
     "text": [
      "I'll go to the sea.\n"
     ]
    }
   ],
   "source": [
    "tomorrow = \"warm\"\n",
    "\n",
    "if tomorrow == \"warm\":\n",
    "    print(\"I'll go to the sea.\")\n",
    "elif tomorrow == \"very hot\":\n",
    "    print(\"I'll go to the forest.\")\n",
    "else:\n",
    "    print(\"I'll stay home.\")"
   ]
  },
  {
   "cell_type": "code",
   "execution_count": 3,
   "metadata": {},
   "outputs": [
    {
     "name": "stdout",
     "output_type": "stream",
     "text": [
      "i is smaller than 15\n",
      "i is smaller than 12 too\n"
     ]
    }
   ],
   "source": [
    "i = 10\n",
    "if (i == 10): \n",
    "    if (i < 15): \n",
    "        print(\"i is smaller than 15\") \n",
    "        \n",
    "    if (i < 12): \n",
    "        print(\"i is smaller than 12 too\") \n",
    "    else: \n",
    "        print(\"i is greater than 15\") "
   ]
  },
  {
   "cell_type": "code",
   "execution_count": 4,
   "metadata": {},
   "outputs": [
    {
     "name": "stdout",
     "output_type": "stream",
     "text": [
      "Good\n"
     ]
    }
   ],
   "source": [
    "a=90\n",
    "if(a>40):\n",
    "    if(a<20):\n",
    "        print(\"OK\")\n",
    "    else:\n",
    "        print(\"Good\")\n",
    "else:\n",
    "    print(\"bad\")"
   ]
  },
  {
   "cell_type": "code",
   "execution_count": 2,
   "metadata": {},
   "outputs": [
    {
     "name": "stdout",
     "output_type": "stream",
     "text": [
      "x is equal to y.\n"
     ]
    }
   ],
   "source": [
    "x = 3\n",
    "y = 3\n",
    "\n",
    "if x < y:\n",
    "    print(\"x is smaller than y.\")\n",
    "elif x == y:\n",
    "    print(\"x is equal to y.\")\n",
    "else:\n",
    "    print(\"x is greater than y.\")"
   ]
  },
  {
   "cell_type": "code",
   "execution_count": 6,
   "metadata": {},
   "outputs": [
    {
     "name": "stdout",
     "output_type": "stream",
     "text": [
      "you scored less\n"
     ]
    }
   ],
   "source": [
    "a=int(input(\"Enter your name:\"))\n",
    "if(a<10):\n",
    "    print(\"you scored less\")\n",
    "else:\n",
    "    print(\"You scored more\")"
   ]
  },
  {
   "cell_type": "code",
   "execution_count": 5,
   "metadata": {},
   "outputs": [
    {
     "name": "stdout",
     "output_type": "stream",
     "text": [
      "4\n"
     ]
    }
   ],
   "source": [
    "a=int(input(\"Enter a number\"))\n",
    "if(a==25):\n",
    "    print(a/5)\n",
    "else:\n",
    "    print(a)"
   ]
  },
  {
   "cell_type": "code",
   "execution_count": 7,
   "metadata": {},
   "outputs": [
    {
     "name": "stdout",
     "output_type": "stream",
     "text": [
      "your Average\n"
     ]
    }
   ],
   "source": [
    "mark=80\n",
    "if(mark>100):\n",
    "    print(\"Good mark\")\n",
    "elif (mark>50):\n",
    "    print(\"your Average\")\n",
    "else:\n",
    "    print(\"you are failed\")"
   ]
  }
 ],
 "metadata": {
  "kernelspec": {
   "display_name": "venv",
   "language": "python",
   "name": "python3"
  },
  "language_info": {
   "codemirror_mode": {
    "name": "ipython",
    "version": 3
   },
   "file_extension": ".py",
   "mimetype": "text/x-python",
   "name": "python",
   "nbconvert_exporter": "python",
   "pygments_lexer": "ipython3",
   "version": "3.12.0"
  }
 },
 "nbformat": 4,
 "nbformat_minor": 2
}
