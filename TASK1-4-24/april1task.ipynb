{
 "cells": [
  {
   "cell_type": "code",
   "execution_count": 33,
   "metadata": {},
   "outputs": [],
   "source": [
    "import array"
   ]
  },
  {
   "cell_type": "code",
   "execution_count": 49,
   "metadata": {},
   "outputs": [
    {
     "name": "stdout",
     "output_type": "stream",
     "text": [
      "array('f', [2.4000000953674316, 4.300000190734863, 3.5, 6.699999809265137])\n",
      "array('f', [1.399999976158142, 2.299999952316284, 4.5, 5.699999809265137])\n"
     ]
    }
   ],
   "source": [
    "float_array1=array.array('f',[2.4,4.3,3.5,6.7])\n",
    "float_array2=array.array('f',[1.4,2.3,4.5,5.7])\n",
    "print(float_array1)\n",
    "print(float_array2)"
   ]
  },
  {
   "cell_type": "code",
   "execution_count": 35,
   "metadata": {},
   "outputs": [
    {
     "name": "stdout",
     "output_type": "stream",
     "text": [
      "array('f', [1.5, 2.5, 2.4000000953674316, 4.300000190734863, 9.5, 3.5, 5.5, 6.5, 7.5, 6.699999809265137])\n"
     ]
    }
   ],
   "source": [
    "float_array1.insert(0,1.5)\n",
    "float_array1.insert(1,2.5)\n",
    "float_array1.insert(5,5.5)\n",
    "float_array1.insert(6,6.5)\n",
    "float_array1.insert(7,7.5)\n",
    "float_array1.insert(4,9.5)\n",
    "print(float_array1)\n"
   ]
  },
  {
   "cell_type": "code",
   "execution_count": 36,
   "metadata": {},
   "outputs": [
    {
     "name": "stdout",
     "output_type": "stream",
     "text": [
      "array('f', [1.399999976158142, 1.5, 6.5, 2.299999952316284, 7.5, 5.5, 4.5, 5.699999809265137, 9.5, 2.5])\n"
     ]
    }
   ],
   "source": [
    "float_array2.insert(1,1.5)\n",
    "float_array2.insert(7,2.5)\n",
    "float_array2.insert(3,5.5)\n",
    "float_array2.insert(2,6.5)\n",
    "float_array2.insert(4,7.5)\n",
    "float_array2.insert(8,9.5)\n",
    "print(float_array2)"
   ]
  },
  {
   "cell_type": "code",
   "execution_count": 37,
   "metadata": {},
   "outputs": [
    {
     "name": "stdout",
     "output_type": "stream",
     "text": [
      "array('f', [1.5, 2.5, 2.4000000953674316, 4.300000190734863, 9.5, 3.5, 5.5, 6.5, 7.5, 6.699999809265137, 2.4000000953674316, 3.9000000953674316])\n"
     ]
    }
   ],
   "source": [
    "float_array1.extend(list([2.4,3.9]))\n",
    "print(float_array1)"
   ]
  },
  {
   "cell_type": "code",
   "execution_count": 38,
   "metadata": {},
   "outputs": [
    {
     "name": "stdout",
     "output_type": "stream",
     "text": [
      "array('f', [1.399999976158142, 1.5, 6.5, 2.299999952316284, 7.5, 5.5, 4.5, 5.699999809265137, 9.5, 2.5, 2.9000000953674316, 9.899999618530273, 1.5, 1.5])\n"
     ]
    }
   ],
   "source": [
    "float_array2.extend(list([2.9,9.9,1.5,1.5]))\n",
    "print(float_array2)"
   ]
  },
  {
   "cell_type": "code",
   "execution_count": 39,
   "metadata": {},
   "outputs": [
    {
     "name": "stdout",
     "output_type": "stream",
     "text": [
      "2.5 is found at index 1\n"
     ]
    }
   ],
   "source": [
    "print(f'2.5 is found at index {float_array1.index(2.5)}')"
   ]
  },
  {
   "cell_type": "code",
   "execution_count": 40,
   "metadata": {},
   "outputs": [
    {
     "name": "stdout",
     "output_type": "stream",
     "text": [
      "2.5 is found at index 8\n"
     ]
    }
   ],
   "source": [
    "print(f'2.5 is found at index {float_array2.index(9.5)}')"
   ]
  },
  {
   "cell_type": "code",
   "execution_count": 41,
   "metadata": {},
   "outputs": [
    {
     "name": "stdout",
     "output_type": "stream",
     "text": [
      "array('f', [1.5, 2.5, 2.4000000953674316, 4.300000190734863, 9.5, 3.5, 5.5, 7.5, 6.699999809265137, 2.4000000953674316, 3.9000000953674316])\n"
     ]
    }
   ],
   "source": [
    "float_array1.remove(6.5)\n",
    "print(float_array1)"
   ]
  },
  {
   "cell_type": "code",
   "execution_count": 42,
   "metadata": {},
   "outputs": [
    {
     "name": "stdout",
     "output_type": "stream",
     "text": [
      "array('f', [1.399999976158142, 6.5, 2.299999952316284, 7.5, 5.5, 4.5, 5.699999809265137, 9.5, 2.5, 2.9000000953674316, 9.899999618530273, 1.5, 1.5])\n"
     ]
    }
   ],
   "source": [
    "float_array2.remove(1.5)\n",
    "print(float_array2)"
   ]
  },
  {
   "cell_type": "code",
   "execution_count": 47,
   "metadata": {},
   "outputs": [
    {
     "name": "stdout",
     "output_type": "stream",
     "text": [
      "array('f')\n"
     ]
    }
   ],
   "source": [
    "while len(float_array1) > 0:\n",
    "    float_array1.pop()\n",
    "\n",
    "\n",
    "print(float_array1)"
   ]
  },
  {
   "cell_type": "code",
   "execution_count": 46,
   "metadata": {},
   "outputs": [
    {
     "name": "stdout",
     "output_type": "stream",
     "text": [
      "array('f')\n"
     ]
    }
   ],
   "source": [
    "while len(float_array2) > 0:\n",
    "    float_array2.pop()\n",
    "\n",
    "\n",
    "print(float_array2)"
   ]
  },
  {
   "cell_type": "code",
   "execution_count": 50,
   "metadata": {},
   "outputs": [
    {
     "name": "stdout",
     "output_type": "stream",
     "text": [
      "2.4\n"
     ]
    }
   ],
   "source": [
    "a=12\n",
    "b=5\n",
    "print(a/b)\n"
   ]
  },
  {
   "cell_type": "code",
   "execution_count": 51,
   "metadata": {},
   "outputs": [
    {
     "name": "stdout",
     "output_type": "stream",
     "text": [
      "2\n"
     ]
    }
   ],
   "source": [
    "print(a//b)"
   ]
  },
  {
   "cell_type": "code",
   "execution_count": null,
   "metadata": {},
   "outputs": [],
   "source": []
  }
 ],
 "metadata": {
  "kernelspec": {
   "display_name": "venv",
   "language": "python",
   "name": "python3"
  },
  "language_info": {
   "codemirror_mode": {
    "name": "ipython",
    "version": 3
   },
   "file_extension": ".py",
   "mimetype": "text/x-python",
   "name": "python",
   "nbconvert_exporter": "python",
   "pygments_lexer": "ipython3",
   "version": "3.12.0"
  }
 },
 "nbformat": 4,
 "nbformat_minor": 2
}
