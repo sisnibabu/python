{
 "cells": [
  {
   "cell_type": "code",
   "execution_count": 1,
   "metadata": {},
   "outputs": [],
   "source": [
    "import array"
   ]
  },
  {
   "cell_type": "code",
   "execution_count": 2,
   "metadata": {},
   "outputs": [],
   "source": [
    "float=array.array('f',[2.3,3.4,5.6,7.8,9.9])"
   ]
  },
  {
   "cell_type": "code",
   "execution_count": 3,
   "metadata": {},
   "outputs": [
    {
     "name": "stdout",
     "output_type": "stream",
     "text": [
      "array('f', [2.299999952316284, 3.4000000953674316, 5.599999904632568, 7.800000190734863, 9.899999618530273]) <class 'array.array'>\n"
     ]
    }
   ],
   "source": [
    "print(float,type(float))"
   ]
  },
  {
   "cell_type": "code",
   "execution_count": 4,
   "metadata": {},
   "outputs": [
    {
     "name": "stdout",
     "output_type": "stream",
     "text": [
      "2.299999952316284\n",
      "3.4000000953674316\n",
      "5.599999904632568\n",
      "7.800000190734863\n",
      "9.899999618530273\n"
     ]
    }
   ],
   "source": [
    "for a in float:\n",
    "    print(a)"
   ]
  },
  {
   "cell_type": "code",
   "execution_count": 5,
   "metadata": {},
   "outputs": [
    {
     "name": "stdout",
     "output_type": "stream",
     "text": [
      "float_array[0] = 2.299999952316284\n",
      "float_array[1] = 3.4000000953674316\n",
      "float_array[2] = 5.599999904632568\n",
      "float_array[3] = 7.800000190734863\n",
      "float_array[4] = 9.899999618530273\n"
     ]
    }
   ],
   "source": [
    "for b in range(0, len(float)):\n",
    "    print(f'float_array[{b}] = {float[b]}')"
   ]
  },
  {
   "cell_type": "code",
   "execution_count": 9,
   "metadata": {},
   "outputs": [
    {
     "name": "stdout",
     "output_type": "stream",
     "text": [
      "array('f', [1.7000000476837158, 1.7000000476837158, 2.299999952316284, 3.4000000953674316, 9.800000190734863, 5.599999904632568, 7.800000190734863, 9.899999618530273])\n"
     ]
    }
   ],
   "source": [
    "float.insert(0,1.7)\n",
    "float.insert(4,9.8)\n",
    "print(float)"
   ]
  },
  {
   "cell_type": "code",
   "execution_count": 10,
   "metadata": {},
   "outputs": [
    {
     "name": "stdout",
     "output_type": "stream",
     "text": [
      "5.599999904632568\n"
     ]
    }
   ],
   "source": [
    "print(float[-3])"
   ]
  },
  {
   "cell_type": "code",
   "execution_count": null,
   "metadata": {},
   "outputs": [],
   "source": []
  }
 ],
 "metadata": {
  "kernelspec": {
   "display_name": "venv",
   "language": "python",
   "name": "python3"
  },
  "language_info": {
   "codemirror_mode": {
    "name": "ipython",
    "version": 3
   },
   "file_extension": ".py",
   "mimetype": "text/x-python",
   "name": "python",
   "nbconvert_exporter": "python",
   "pygments_lexer": "ipython3",
   "version": "3.12.0"
  }
 },
 "nbformat": 4,
 "nbformat_minor": 2
}
