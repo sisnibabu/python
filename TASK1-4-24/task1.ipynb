{
 "cells": [
  {
   "cell_type": "code",
   "execution_count": 5,
   "metadata": {},
   "outputs": [],
   "source": [
    "def gen(a):\n",
    "    yield a*a\n",
    "    yield a+a\n",
    "    yield a/a\n",
    "\n",
    "\n"
   ]
  },
  {
   "cell_type": "code",
   "execution_count": 74,
   "metadata": {},
   "outputs": [
    {
     "name": "stdout",
     "output_type": "stream",
     "text": [
      "16\n",
      "8\n",
      "1.0\n"
     ]
    }
   ],
   "source": [
    "ans = gen(4)\n",
    "for i in ans:\n",
    "    print(i)\n"
   ]
  },
  {
   "cell_type": "code",
   "execution_count": 40,
   "metadata": {},
   "outputs": [],
   "source": [
    "def str_fun(a):\n",
    "    yield a.upper()\n",
    "    yield a.lower()\n",
    "    yield a.swapcase()\n",
    "    yield a.title()\n",
    "   \n",
    "  \n",
    " \n"
   ]
  },
  {
   "cell_type": "code",
   "execution_count": 42,
   "metadata": {},
   "outputs": [
    {
     "name": "stdout",
     "output_type": "stream",
     "text": [
      "RAVI\n",
      "ravi\n",
      "rAVI\n",
      "Ravi\n",
      "RAJU\n",
      "raju\n",
      "rAJU\n",
      "Raju\n",
      "SISNI\n",
      "sisni\n",
      "sISNI\n",
      "Sisni\n",
      "PRIYA\n",
      "priya\n",
      "pRIYA\n",
      "Priya\n"
     ]
    }
   ],
   "source": [
    "name1=['Ravi','Raju','Sisni','Priya']\n",
    "for i in name1:\n",
    " change_name=str_fun(i)\n",
    " for name in change_name:\n",
    "  print(name)\n",
    "\n"
   ]
  },
  {
   "cell_type": "code",
   "execution_count": 72,
   "metadata": {},
   "outputs": [
    {
     "name": "stdout",
     "output_type": "stream",
     "text": [
      "Hello,Alice!!!!\n"
     ]
    }
   ],
   "source": [
    "def fun():\n",
    "    def fun1(name):\n",
    "        return f\"Hello,{name}!!!!\"\n",
    "    return fun1\n",
    "greet=fun()\n",
    "print(greet(\"Alice\"))"
   ]
  },
  {
   "cell_type": "code",
   "execution_count": 44,
   "metadata": {},
   "outputs": [
    {
     "name": "stdout",
     "output_type": "stream",
     "text": [
      "start\n",
      "Hello World!!\n",
      "end\n"
     ]
    }
   ],
   "source": [
    "def f1(func):\n",
    "    def wrapper():\n",
    "        print(\"start\")\n",
    "        func()\n",
    "        print(\"end\")\n",
    "    return wrapper\n",
    "def f():\n",
    "    print(\"Hello World!!\")\n",
    "f=f1(f)\n",
    "f()"
   ]
  },
  {
   "cell_type": "code",
   "execution_count": 46,
   "metadata": {},
   "outputs": [
    {
     "name": "stdout",
     "output_type": "stream",
     "text": [
      "4\n",
      "3\n"
     ]
    }
   ],
   "source": [
    "def check_sub(func):\n",
    "    def wrapper(num1,num2):\n",
    "        if num1>=num2:\n",
    "            result=func(num1,num2)\n",
    "        else:\n",
    "            result=func(num2,num1)\n",
    "        return result\n",
    "    return wrapper\n",
    "@check_sub\n",
    "def sub(num1,num2):\n",
    "    return num1-num2\n",
    "print(sub(2,6))\n",
    "print(sub(6,3))\n"
   ]
  },
  {
   "cell_type": "code",
   "execution_count": 71,
   "metadata": {},
   "outputs": [
    {
     "name": "stdout",
     "output_type": "stream",
     "text": [
      "Divisible by 3\n",
      "None\n",
      "994009\n"
     ]
    }
   ],
   "source": [
    "def check_mul(fun):\n",
    "    def wrapper(num1):\n",
    "        if num1%2==0:\n",
    "          print(\"Divisible by 2\")\n",
    "          result= None\n",
    "        elif num1%3==0:\n",
    "            print(\"Divisible by 3\")\n",
    "            result= None\n",
    "        else:\n",
    "           result=fun(num1)\n",
    "        return result\n",
    "    return wrapper\n",
    "@check_mul\n",
    "def sqr(num1):\n",
    "    return num1*num1\n",
    "print(sqr(9))\n",
    "print(sqr(997))"
   ]
  },
  {
   "cell_type": "code",
   "execution_count": null,
   "metadata": {},
   "outputs": [],
   "source": []
  }
 ],
 "metadata": {
  "kernelspec": {
   "display_name": "venv",
   "language": "python",
   "name": "python3"
  },
  "language_info": {
   "codemirror_mode": {
    "name": "ipython",
    "version": 3
   },
   "file_extension": ".py",
   "mimetype": "text/x-python",
   "name": "python",
   "nbconvert_exporter": "python",
   "pygments_lexer": "ipython3",
   "version": "3.12.0"
  }
 },
 "nbformat": 4,
 "nbformat_minor": 2
}
