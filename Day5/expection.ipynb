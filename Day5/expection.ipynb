{
 "cells": [
  {
   "cell_type": "markdown",
   "metadata": {},
   "source": [
    "### write down programs for error handling(try except finally for type error,overflow error, indentation error)\n"
   ]
  },
  {
   "cell_type": "code",
   "execution_count": 5,
   "metadata": {},
   "outputs": [
    {
     "name": "stdout",
     "output_type": "stream",
     "text": [
      "Invalid Input\n",
      "Cleanup code in 'finally' block\n"
     ]
    }
   ],
   "source": [
    "try:\n",
    "    num1=(input(\"Enter:\"))\n",
    "    num2=int(input(\"Enter:\"))\n",
    "    print(num1+num2)\n",
    "except TypeError:\n",
    "    print(\"Invalid Input\")\n",
    "finally:\n",
    "    print(\"Cleanup code in 'finally' block\")\n",
    "\n"
   ]
  },
  {
   "cell_type": "code",
   "execution_count": 43,
   "metadata": {},
   "outputs": [
    {
     "ename": "IndentationError",
     "evalue": "expected an indented block after 'if' statement on line 4 (313896036.py, line 5)",
     "output_type": "error",
     "traceback": [
      "\u001b[1;36m  Cell \u001b[1;32mIn[43], line 5\u001b[1;36m\u001b[0m\n\u001b[1;33m    print(\"A is greater than 2 and smaller than 7\")\u001b[0m\n\u001b[1;37m    ^\u001b[0m\n\u001b[1;31mIndentationError\u001b[0m\u001b[1;31m:\u001b[0m expected an indented block after 'if' statement on line 4\n"
     ]
    }
   ],
   "source": [
    "try:\n",
    "  a=5\n",
    "  if a> 2:\n",
    "   if a < 7:\n",
    "   print(\"A is greater than 2 and smaller than 7\")\n",
    "except IndentationError:\n",
    "   print(\"Indentation Error Occured\")\n",
    "finally:\n",
    "   print(\"Cleanup code in 'finally' block\")\n"
   ]
  },
  {
   "cell_type": "code",
   "execution_count": 33,
   "metadata": {},
   "outputs": [
    {
     "name": "stdout",
     "output_type": "stream",
     "text": [
      "Overflow Error\n",
      "Cleanup code in 'finally' block\n"
     ]
    }
   ],
   "source": [
    "\n",
    "try:\n",
    " i=1\n",
    " f = 3.0**i\n",
    " for i in range(100):\n",
    "  f = f ** 2\n",
    "except OverflowError:\n",
    " print(\"Overflow Error\")\n",
    "finally:\n",
    " print(\"Cleanup code in 'finally' block\")\n",
    "  \n"
   ]
  },
  {
   "cell_type": "code",
   "execution_count": null,
   "metadata": {},
   "outputs": [],
   "source": []
  }
 ],
 "metadata": {
  "kernelspec": {
   "display_name": "venv",
   "language": "python",
   "name": "python3"
  },
  "language_info": {
   "codemirror_mode": {
    "name": "ipython",
    "version": 3
   },
   "file_extension": ".py",
   "mimetype": "text/x-python",
   "name": "python",
   "nbconvert_exporter": "python",
   "pygments_lexer": "ipython3",
   "version": "3.12.0"
  }
 },
 "nbformat": 4,
 "nbformat_minor": 2
}
