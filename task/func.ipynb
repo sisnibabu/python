{
 "cells": [
  {
   "cell_type": "code",
   "execution_count": 18,
   "metadata": {},
   "outputs": [
    {
     "name": "stdout",
     "output_type": "stream",
     "text": [
      "you have selected Add\n",
      "25\n"
     ]
    }
   ],
   "source": [
    "import mod\n",
    "\n",
    "num1=int(input(\"Enter:\"))\n",
    "num2=int(input(\"Enter:\"))\n",
    "\n",
    "i=int(input(\"Choose :\"))\n",
    "if (i==1):\n",
    "    print(\"you have selected Add\")\n",
    "    print(mod.add(num1,num2))\n",
    "elif(i==2):\n",
    "    print(\"you have selected Sub\")\n",
    "    print(mod.sub(num1,num2))\n",
    "elif(i==3):\n",
    "    print(\"you have selected Mul\")\n",
    "    print(mod.mul(num1,num2))\n",
    "elif(i==4):\n",
    "    print(\"you have selected Div\")\n",
    "    print(mod.div(num1,num2))\n",
    "else:\n",
    "    print(\"Invalid\")\n",
    "\n",
    "\n",
    "\n",
    "\n",
    "\n"
   ]
  },
  {
   "cell_type": "code",
   "execution_count": null,
   "metadata": {},
   "outputs": [],
   "source": []
  }
 ],
 "metadata": {
  "kernelspec": {
   "display_name": "venv",
   "language": "python",
   "name": "python3"
  },
  "language_info": {
   "codemirror_mode": {
    "name": "ipython",
    "version": 3
   },
   "file_extension": ".py",
   "mimetype": "text/x-python",
   "name": "python",
   "nbconvert_exporter": "python",
   "pygments_lexer": "ipython3",
   "version": "3.12.0"
  }
 },
 "nbformat": 4,
 "nbformat_minor": 2
}
