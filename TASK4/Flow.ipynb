{
 "cells": [
  {
   "cell_type": "code",
   "execution_count": 1,
   "metadata": {},
   "outputs": [
    {
     "name": "stdout",
     "output_type": "stream",
     "text": [
      "I'll stay home.\n"
     ]
    }
   ],
   "source": [
    "tomorrow = input(\"Enter:\")\n",
    "\n",
    "if tomorrow == \"warm\":\n",
    "    print(\"I'll go to the sea.\")\n",
    "elif tomorrow == \"very hot\":\n",
    "    print(\"I'll go to the forest.\")\n",
    "else:\n",
    "    print(\"I'll stay home.\")"
   ]
  },
  {
   "cell_type": "code",
   "execution_count": 16,
   "metadata": {},
   "outputs": [
    {
     "name": "stdout",
     "output_type": "stream",
     "text": [
      "It's Working day!!\n"
     ]
    }
   ],
   "source": [
    "n=input(\"Enter:\")\n",
    "days=(\"Monday\",\"Tuesday\",\"Wednesday\",\"Thursday\",\"Friday\")\n",
    "for i in days:\n",
    "    day=i\n",
    "    if (n==day):\n",
    "     print(\"It's Working day!!\")\n",
    "   \n",
    "\n",
    "\n"
   ]
  },
  {
   "cell_type": "code",
   "execution_count": 15,
   "metadata": {},
   "outputs": [
    {
     "name": "stdout",
     "output_type": "stream",
     "text": [
      "i is greater than 15\n"
     ]
    }
   ],
   "source": [
    "i = int(input(\"Enter a Number:\"))\n",
    "if (i >= 10): \n",
    "    if (i < 15): \n",
    "        print(\"i is smaller than 15\") \n",
    "        \n",
    "    elif (i < 12): \n",
    "        print(\"i is smaller than 12 \") \n",
    "    else: \n",
    "        print(\"i is greater than 15\") \n",
    "else:\n",
    "    print(\"i is smaller than 10\")"
   ]
  },
  {
   "cell_type": "code",
   "execution_count": 24,
   "metadata": {},
   "outputs": [
    {
     "name": "stdout",
     "output_type": "stream",
     "text": [
      "Number 3 is greater than all numbers.\n"
     ]
    }
   ],
   "source": [
    "num1=int(input(\"Enter a Number:\"))\n",
    "num2=int(input(\"Enter a Number:\"))\n",
    "num3=int(input(\"Enter a Number:\"))\n",
    "if (num1 > num2)and(num1>num3):\n",
    "    print(\"NUmber 1 is Greater than all numbers.\")\n",
    "elif(num2>num1)and(num2>num3):\n",
    "    print(\"Number 2 is greater than all numbers.\")\n",
    "else:\n",
    "    print(\"Number 3 is greater than all numbers.\")"
   ]
  },
  {
   "cell_type": "code",
   "execution_count": 25,
   "metadata": {},
   "outputs": [
    {
     "name": "stdout",
     "output_type": "stream",
     "text": [
      "True\n",
      "False\n",
      "True\n"
     ]
    }
   ],
   "source": [
    "x = [\"apple\", \"banana\"]\n",
    "y = [\"apple\", \"banana\"]\n",
    "z = x\n",
    "print(x is z)\n",
    "print(x is y)\n",
    "print(x == y)\n"
   ]
  },
  {
   "cell_type": "code",
   "execution_count": null,
   "metadata": {},
   "outputs": [],
   "source": []
  }
 ],
 "metadata": {
  "kernelspec": {
   "display_name": "venv",
   "language": "python",
   "name": "python3"
  },
  "language_info": {
   "codemirror_mode": {
    "name": "ipython",
    "version": 3
   },
   "file_extension": ".py",
   "mimetype": "text/x-python",
   "name": "python",
   "nbconvert_exporter": "python",
   "pygments_lexer": "ipython3",
   "version": "3.12.0"
  }
 },
 "nbformat": 4,
 "nbformat_minor": 2
}
