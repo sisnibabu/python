{
 "cells": [
  {
   "cell_type": "code",
   "execution_count": 2,
   "metadata": {},
   "outputs": [
    {
     "name": "stdout",
     "output_type": "stream",
     "text": [
      "Today\n",
      "is\n",
      "Thursday\n"
     ]
    }
   ],
   "source": [
    "days=[\"Today\",\"is\",\"Thursday\"]\n",
    "for day in days:\n",
    "    print(day)"
   ]
  },
  {
   "cell_type": "code",
   "execution_count": 3,
   "metadata": {},
   "outputs": [
    {
     "name": "stdout",
     "output_type": "stream",
     "text": [
      "2 * 1 = 2\n",
      "2 * 2 = 4\n",
      "2 * 3 = 6\n",
      "2 * 4 = 8\n",
      "2 * 5 = 10\n",
      "2 * 6 = 12\n",
      "2 * 7 = 14\n",
      "2 * 8 = 16\n",
      "2 * 9 = 18\n",
      "2 * 10 = 20\n"
     ]
    }
   ],
   "source": [
    "for i in range(1,11):\n",
    "    print(2,\"*\",i,\"=\",i*2)"
   ]
  },
  {
   "cell_type": "code",
   "execution_count": 7,
   "metadata": {},
   "outputs": [
    {
     "name": "stdout",
     "output_type": "stream",
     "text": [
      "It's Working day\n"
     ]
    }
   ],
   "source": [
    "i=input(\"Enter a day:\")\n",
    "while(i==\"Sunday\"):\n",
    "    print(\"Its holiday!!!\")\n",
    "    break\n",
    "else:\n",
    " print(\"It's Working day\")"
   ]
  },
  {
   "cell_type": "code",
   "execution_count": 8,
   "metadata": {},
   "outputs": [
    {
     "name": "stdout",
     "output_type": "stream",
     "text": [
      "It's Dec\n"
     ]
    }
   ],
   "source": [
    "Month=int(input(\"Enter a month\"))\n",
    "if Month==1:\n",
    "    print(\"It's Jan\")\n",
    "elif Month==2:\n",
    "    print(\"It's Feb\")\n",
    "elif Month==3:\n",
    "    print(\"It's Mar\")\n",
    "elif Month==4:\n",
    "    print(\"It's Apr\")\n",
    "elif Month==5:\n",
    "    print(\"It's May\")\n",
    "elif Month==6:\n",
    "    print(\"It's Jun\")\n",
    "elif Month==7:\n",
    "    print(\"It's Jul\")\n",
    "elif Month==8:\n",
    "    print(\"It's Aug\")\n",
    "elif Month==9:\n",
    "    print(\"It's Sep\")\n",
    "elif Month==10:\n",
    "    print(\"It's Oct\")\n",
    "elif Month==11:\n",
    "    print(\"It's Nov\")\n",
    "elif Month==12:\n",
    "    print(\"It's Dec\")\n",
    "else:\n",
    "    print(\"Invalid\")"
   ]
  }
 ],
 "metadata": {
  "kernelspec": {
   "display_name": "venv",
   "language": "python",
   "name": "python3"
  },
  "language_info": {
   "codemirror_mode": {
    "name": "ipython",
    "version": 3
   },
   "file_extension": ".py",
   "mimetype": "text/x-python",
   "name": "python",
   "nbconvert_exporter": "python",
   "pygments_lexer": "ipython3",
   "version": "3.12.0"
  }
 },
 "nbformat": 4,
 "nbformat_minor": 2
}
