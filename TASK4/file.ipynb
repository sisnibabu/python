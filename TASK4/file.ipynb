{
 "cells": [
  {
   "cell_type": "markdown",
   "metadata": {},
   "source": [
    "### create a file name call bu.txt in write mode and Write your professional details\n",
    "1.name\n",
    "2.des\n",
    "3.exp\n",
    "4.company\n",
    "5.skil"
   ]
  },
  {
   "cell_type": "code",
   "execution_count": 8,
   "metadata": {},
   "outputs": [],
   "source": [
    "with open(\"BU.txt\",\"w+\") as file:\n",
    "    file.write(\"Name:Sisni\")\n",
    "    file.write(\"\\nDesigantion:Trainee DevOps Engineer\")\n",
    "    file.write(\"\\nExperienc:Fresher\")\n",
    "    file.write(\"\\nCompany:Beyond Universe Software Technology Pvt Ltd\")\n",
    "    file.write(\"\\nSkill set: AWS & DevOps\")\n",
    "file.close()\n"
   ]
  },
  {
   "cell_type": "markdown",
   "metadata": {},
   "source": [
    "### convert the context to txt and no of words"
   ]
  },
  {
   "cell_type": "code",
   "execution_count": 14,
   "metadata": {},
   "outputs": [
    {
     "name": "stdout",
     "output_type": "stream",
     "text": [
      "511\n"
     ]
    }
   ],
   "source": [
    "import re\n",
    "with open(\"content.txt\",\"r\") as file:\n",
    "    data=file.read()\n",
    "    split=data.split()\n",
    "    print(len(split))\n",
    "file.close()\n"
   ]
  },
  {
   "cell_type": "code",
   "execution_count": null,
   "metadata": {},
   "outputs": [],
   "source": []
  }
 ],
 "metadata": {
  "kernelspec": {
   "display_name": "venv",
   "language": "python",
   "name": "python3"
  },
  "language_info": {
   "codemirror_mode": {
    "name": "ipython",
    "version": 3
   },
   "file_extension": ".py",
   "mimetype": "text/x-python",
   "name": "python",
   "nbconvert_exporter": "python",
   "pygments_lexer": "ipython3",
   "version": "3.12.0"
  }
 },
 "nbformat": 4,
 "nbformat_minor": 2
}
