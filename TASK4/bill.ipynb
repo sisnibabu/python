{
 "cells": [
  {
   "cell_type": "code",
   "execution_count": 1,
   "metadata": {},
   "outputs": [
    {
     "name": "stdout",
     "output_type": "stream",
     "text": [
      "BILL NO:00045\n",
      "REGENCY HOTEL\n",
      "Food: pongal\n",
      "Quantity: 4\n",
      "Total Bill: 160.00\n"
     ]
    }
   ],
   "source": [
    "import hotel\n",
    "n=int(input(\"Enter Bill No:\"))\n",
    "Bill_no=f\"BILL NO:{n:05d}\"\n",
    "print(Bill_no)\n",
    "hotel.hotel()"
   ]
  }
 ],
 "metadata": {
  "kernelspec": {
   "display_name": "venv",
   "language": "python",
   "name": "python3"
  },
  "language_info": {
   "codemirror_mode": {
    "name": "ipython",
    "version": 3
   },
   "file_extension": ".py",
   "mimetype": "text/x-python",
   "name": "python",
   "nbconvert_exporter": "python",
   "pygments_lexer": "ipython3",
   "version": "3.12.0"
  }
 },
 "nbformat": 4,
 "nbformat_minor": 2
}
