{
 "cells": [
  {
   "cell_type": "code",
   "execution_count": 8,
   "metadata": {},
   "outputs": [
    {
     "name": "stdout",
     "output_type": "stream",
     "text": [
      "WASHING MACHINE\n",
      "AIR CONDITIONER\n",
      "WATER PURIFIER\n",
      "FAN\n",
      "LIGHT\n"
     ]
    }
   ],
   "source": [
    "\n",
    "app=[\"Washing Machine\",\"Air Conditioner\",\"Water purifier\",\"fan\",\"Light\"]\n",
    "for i in app:\n",
    "    y= i.upper()\n",
    "    print(y)"
   ]
  },
  {
   "cell_type": "code",
   "execution_count": 9,
   "metadata": {},
   "outputs": [
    {
     "name": "stdout",
     "output_type": "stream",
     "text": [
      "washing machine\n",
      "air conditioner\n",
      "water purifier\n",
      "fan\n",
      "light\n"
     ]
    }
   ],
   "source": [
    "app=[\"Washing Machine\",\"Air Conditioner\",\"Water purifier\",\"fan\",\"Light\"]\n",
    "for i in app:\n",
    "    b= i.lower()\n",
    "    print(b)"
   ]
  },
  {
   "cell_type": "code",
   "execution_count": 11,
   "metadata": {},
   "outputs": [
    {
     "name": "stdout",
     "output_type": "stream",
     "text": [
      "Washing Machine\n",
      "Air Conditioner\n",
      "Water Purifier\n",
      "Fan\n",
      "Light\n"
     ]
    }
   ],
   "source": [
    "app=[\"Washing Machine\",\"Air Conditioner\",\"Water purifier\",\"fan\",\"Light\"]\n",
    "for i in app:\n",
    "    c= i.title()\n",
    "    print(c)"
   ]
  },
  {
   "cell_type": "code",
   "execution_count": null,
   "metadata": {},
   "outputs": [],
   "source": []
  }
 ],
 "metadata": {
  "kernelspec": {
   "display_name": "venv",
   "language": "python",
   "name": "python3"
  },
  "language_info": {
   "codemirror_mode": {
    "name": "ipython",
    "version": 3
   },
   "file_extension": ".py",
   "mimetype": "text/x-python",
   "name": "python",
   "nbconvert_exporter": "python",
   "pygments_lexer": "ipython3",
   "version": "3.12.0"
  }
 },
 "nbformat": 4,
 "nbformat_minor": 2
}
